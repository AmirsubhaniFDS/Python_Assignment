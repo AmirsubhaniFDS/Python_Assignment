{
 "cells": [
  {
   "cell_type": "code",
   "execution_count": null,
   "id": "081f9382",
   "metadata": {},
   "outputs": [],
   "source": [
    "#1. In the below elements which of them are values or an expression? eg:- values can be integer or string and \n",
    "#expressions will be mathematical operators.\n",
    "* \n",
    "'hello'\n",
    "-87.8\n",
    "- \n",
    "/ \n",
    "\t•\t\n",
    "6 \n",
    "\n",
    "values - \"Hello\", -87.8,6\n",
    "Expression - *,-,/"
   ]
  },
  {
   "cell_type": "code",
   "execution_count": null,
   "id": "5d90967a",
   "metadata": {},
   "outputs": [],
   "source": [
    "#What is the difference between string and variable?\n",
    "\n",
    "String - String is a type of value that can be stored in the variable, it is always enclosed by \"\".\n",
    "Variable - Variable is something that stores data, it can be any data type. int,float,dict,set,list etc"
   ]
  },
  {
   "cell_type": "code",
   "execution_count": null,
   "id": "b88510c9",
   "metadata": {},
   "outputs": [],
   "source": [
    "#Describe three different data types.\n",
    "\n",
    "In Python there are many data types such as int, str,float,dict,set,list etc\n",
    "Int Data Type : Int is a data type that stores only integer value. it can be zero, positive number or negative without fraction."
   ]
  },
  {
   "cell_type": "code",
   "execution_count": null,
   "id": "28aa4825",
   "metadata": {},
   "outputs": [],
   "source": [
    "#What is an expression made up of? What do all expressions do?\n",
    "\n",
    "Expression can be the collection of values, variable, operator an any function. Expression evalute and gives the value."
   ]
  },
  {
   "cell_type": "code",
   "execution_count": null,
   "id": "c1880d56",
   "metadata": {},
   "outputs": [],
   "source": [
    "#This assignment statements, like spam = 10. What is the difference between an expression and a statement?\n",
    "An expression always evaluate and gives the return value, whereas statement may or may not produce return value after execution"
   ]
  },
  {
   "cell_type": "code",
   "execution_count": 1,
   "id": "190d9714",
   "metadata": {},
   "outputs": [
    {
     "data": {
      "text/plain": [
       "23"
      ]
     },
     "execution_count": 1,
     "metadata": {},
     "output_type": "execute_result"
    }
   ],
   "source": [
    "#After running the following code, what does the variable bacon contain?\n",
    "bacon = 22\n",
    "bacon + 1"
   ]
  },
  {
   "cell_type": "code",
   "execution_count": 3,
   "id": "19673e8e",
   "metadata": {},
   "outputs": [
    {
     "data": {
      "text/plain": [
       "'spamspamspam'"
      ]
     },
     "execution_count": 3,
     "metadata": {},
     "output_type": "execute_result"
    }
   ],
   "source": [
    "#What should the values of the following two terms be?\n",
    "'spam' + 'spamspam'\n",
    "\n"
   ]
  },
  {
   "cell_type": "code",
   "execution_count": 4,
   "id": "b0b3a242",
   "metadata": {},
   "outputs": [
    {
     "data": {
      "text/plain": [
       "'spamspamspam'"
      ]
     },
     "execution_count": 4,
     "metadata": {},
     "output_type": "execute_result"
    }
   ],
   "source": [
    "'spam' * 3"
   ]
  },
  {
   "cell_type": "code",
   "execution_count": null,
   "id": "7f4e83bc",
   "metadata": {},
   "outputs": [],
   "source": [
    "#Why is eggs a valid variable name while 100 is invalid?\n",
    "\n",
    "Because of varible naming standard, variable name should not be start from integer."
   ]
  },
  {
   "cell_type": "code",
   "execution_count": null,
   "id": "9b22069b",
   "metadata": {},
   "outputs": [],
   "source": [
    "#What three functions can be used to get the integer, floating-point number, or string version of a value?\n",
    "\n",
    "int()\n",
    "float()\n",
    "str()"
   ]
  },
  {
   "cell_type": "code",
   "execution_count": 9,
   "id": "59af1774",
   "metadata": {},
   "outputs": [
    {
     "data": {
      "text/plain": [
       "'I have eaten 99 burritos'"
      ]
     },
     "execution_count": 9,
     "metadata": {},
     "output_type": "execute_result"
    }
   ],
   "source": [
    "# does this expression cause an error? How can you fix it?\n",
    "'I have eaten ' + 99 + ' burritos.'\n",
    "\n",
    "Because we can not concatenate integer with string\n",
    "\n",
    "'I have eaten' + ' ' + str(99)+ ' ' + 'burritos' \n"
   ]
  },
  {
   "cell_type": "code",
   "execution_count": null,
   "id": "80ed33c4",
   "metadata": {},
   "outputs": [],
   "source": []
  }
 ],
 "metadata": {
  "kernelspec": {
   "display_name": "Python 3 (ipykernel)",
   "language": "python",
   "name": "python3"
  },
  "language_info": {
   "codemirror_mode": {
    "name": "ipython",
    "version": 3
   },
   "file_extension": ".py",
   "mimetype": "text/x-python",
   "name": "python",
   "nbconvert_exporter": "python",
   "pygments_lexer": "ipython3",
   "version": "3.9.7"
  }
 },
 "nbformat": 4,
 "nbformat_minor": 5
}
